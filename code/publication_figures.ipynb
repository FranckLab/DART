{
 "cells": [
  {
   "cell_type": "markdown",
   "metadata": {},
   "source": [
    "# Publication Data"
   ]
  },
  {
   "cell_type": "code",
   "execution_count": null,
   "metadata": {},
   "outputs": [],
   "source": [
    "import numpy as np\n",
    "import pandas as pd\n",
    "import os\n",
    "import glob\n",
    "\n",
    "import matplotlib.pyplot as plt\n",
    "import seaborn as sns\n",
    "\n",
    "from matplotlib import rcParams\n",
    "rcParams['font.family'] = 'sans-serif'\n",
    "rcParams['font.sans-serif'] = ['Arial']"
   ]
  },
  {
   "cell_type": "markdown",
   "metadata": {},
   "source": [
    "## Load Data"
   ]
  },
  {
   "cell_type": "code",
   "execution_count": null,
   "metadata": {},
   "outputs": [],
   "source": [
    "df = pd.read_excel('final_data.xlsx')\n",
    "df.shape"
   ]
  },
  {
   "cell_type": "markdown",
   "metadata": {},
   "source": [
    "## Feature Engineering"
   ]
  },
  {
   "cell_type": "code",
   "execution_count": null,
   "metadata": {},
   "outputs": [],
   "source": [
    "order_ = ['pre', 'd0', 'un']\n",
    "\n",
    "\n",
    "pull_cols = ['pull__ 1', 'pull__ 2', 'pull__ 3', 'pull__ 4', 'pull__ 5',\n",
    "             'pull__ 6', 'pull__ 7', 'pull__ 8', 'pull__ 9', 'pull__10', \n",
    "             'pull__11', 'pull__12', 'pull__13', 'pull__14', 'pull__15', \n",
    "             'pull__16']\n",
    "pull_cols = ['pull__'+str(i+1) for i in range(16)]\n",
    "df_temp = df[pull_cols]>0\n",
    "df['pull_slices'] = df_temp.sum(axis=1)\n",
    "\n",
    "\n",
    "push_cols = ['push__ 1', 'push__ 2', 'push__ 3', 'push__ 4', 'push__ 5', \n",
    "             'push__ 6', 'push__ 7', 'push__ 8', 'push__ 9', 'push__10', \n",
    "             'push__11', 'push__12', 'push__13', 'push__14', 'push__15', \n",
    "             'push__16']\n",
    "push_cols = ['push__'+str(i+1) for i in range(16)]\n",
    "df_temp = df[push_cols]>0\n",
    "df['push_slices'] = df_temp.sum(axis=1)\n",
    "\n",
    "shear_cols = ['shear__ 1', 'shear__ 2', 'shear__ 3', 'shear__ 4', 'shear__ 5', \n",
    "              'shear__ 6', 'shear__ 7', 'shear__ 8', 'shear__ 9', 'shear__10', \n",
    "              'shear__11', 'shear__12', 'shear__13', 'shear__14', 'shear__15', \n",
    "              'shear__16']\n",
    "shear_cols = ['shear__'+str(i+1) for i in range(16)]\n",
    "df_temp = df[shear_cols]>0\n",
    "df['shear_slices'] = df_temp.sum(axis=1)\n",
    "\n",
    "df['shape_aniso'] = df['max_ferret_dia']/df['equiv_dia']"
   ]
  },
  {
   "cell_type": "markdown",
   "metadata": {},
   "source": [
    "## Filter data to manually inspected valid cells"
   ]
  },
  {
   "cell_type": "code",
   "execution_count": null,
   "metadata": {},
   "outputs": [],
   "source": [
    "df = df[df['is_disp_checked']==1]"
   ]
  },
  {
   "cell_type": "markdown",
   "metadata": {},
   "source": [
    "## Data count"
   ]
  },
  {
   "cell_type": "code",
   "execution_count": null,
   "metadata": {},
   "outputs": [],
   "source": [
    "df[['drug', 'induce_type', 'cell']].groupby(['drug', 'induce_type']).agg('count')"
   ]
  },
  {
   "cell_type": "markdown",
   "metadata": {},
   "source": [
    "## Select drug condition for which you want to plot the data"
   ]
  },
  {
   "cell_type": "code",
   "execution_count": null,
   "metadata": {},
   "outputs": [],
   "source": [
    "drug = 'dmso'\n",
    "drug_ = ' DMSO'\n",
    "\n",
    "df_ = df\n",
    "df_ = df_[df_['drug']==drug]"
   ]
  },
  {
   "cell_type": "markdown",
   "metadata": {},
   "source": [
    "## Plots comparing DART metrics aross conditions"
   ]
  },
  {
   "cell_type": "code",
   "execution_count": null,
   "metadata": {},
   "outputs": [],
   "source": [
    "fig_size = (3.5,3.5)"
   ]
  },
  {
   "cell_type": "code",
   "execution_count": null,
   "metadata": {},
   "outputs": [],
   "source": [
    "col = 'pull_slices'\n",
    "col_name = 'Contractile Slices'\n",
    "\n",
    "fig, ax = plt.subplots(1,1, sharex=False, figsize=fig_size)\n",
    "sns.boxplot(x='induce_type', y=col, data=df_, order=['un', 'd0', 'pre'],  ax=ax, width=0.5,\n",
    "            showmeans=True, meanline=True, meanprops={'linewidth':2, 'color':'0.85'})\n",
    "sns.swarmplot(x='induce_type', y=col, data=df_, order=['un', 'd0', 'pre'], ax=ax, color='k', size=4)\n",
    "ax.set_yticks([y*4 for y in range(5)])\n",
    "ax.set_ylabel(col_name)\n",
    "ax.set_xlabel('')\n",
    "ax.set_xticklabels(['Epithelial', 'Transitory', 'Mesenchymal'])\n",
    "fig.autofmt_xdate()\n",
    "sns.set_context(\"talk\")\n",
    "sns.despine();\n",
    "fig.savefig(\"plot_fig/contractile.pdf\", bbox_inches='tight')"
   ]
  },
  {
   "cell_type": "code",
   "execution_count": null,
   "metadata": {},
   "outputs": [],
   "source": [
    "col = 'push_slices'\n",
    "col_name = 'Protrusive Slices'\n",
    "\n",
    "fig, ax = plt.subplots(1,1, sharex=False, figsize=fig_size)\n",
    "sns.boxplot(x='induce_type', y=col, data=df_, order=['un', 'd0', 'pre'], ax=ax, width=0.5,\n",
    "            showmeans=True, meanline=True, meanprops={'linewidth':2, 'color':'0.85'})\n",
    "sns.swarmplot(x='induce_type', y=col, data=df_, order=['un', 'd0', 'pre'], ax=ax, color='k', size=4)\n",
    "ax.set_yticks([y*4 for y in range(5)])\n",
    "ax.set_ylabel(col_name)\n",
    "ax.set_xlabel('')\n",
    "ax.set_xticklabels(['Epithelial', 'Transitory', 'Mesenchymal'])\n",
    "fig.autofmt_xdate()\n",
    "sns.set_context(\"talk\")\n",
    "sns.despine();\n",
    "fig.savefig(\"plot_fig/protrusive.pdf\", bbox_inches='tight')"
   ]
  },
  {
   "cell_type": "code",
   "execution_count": null,
   "metadata": {},
   "outputs": [],
   "source": [
    "col = 'shear_slices'\n",
    "col_name = 'Circumferential Slices'\n",
    "\n",
    "fig, ax = plt.subplots(1,1, sharex=False, figsize=fig_size)\n",
    "sns.boxplot(x='induce_type', y=col, data=df_, order=['un', 'd0', 'pre'], ax=ax, width=0.5,\n",
    "            showmeans=True, meanline=True, meanprops={'linewidth':2, 'color':'0.85'})\n",
    "sns.swarmplot(x='induce_type', y=col, data=df_, order=['un', 'd0', 'pre'], ax=ax, color='k', size=4)\n",
    "ax.set_yticks([y*4 for y in range(5)])\n",
    "ax.set_ylabel(col_name)\n",
    "ax.set_xlabel('')\n",
    "ax.set_xticklabels(['Epithelial', 'Transitory', 'Mesenchymal'])\n",
    "fig.autofmt_xdate()\n",
    "sns.set_context(\"talk\")\n",
    "sns.despine();\n",
    "fig.savefig(\"plot_fig/circumferential_disp.pdf\", bbox_inches='tight')"
   ]
  },
  {
   "cell_type": "code",
   "execution_count": null,
   "metadata": {},
   "outputs": [],
   "source": [
    "col = 'shape_aniso'\n",
    "col_name = 'Shape Anisotropy'\n",
    "\n",
    "fig, ax = plt.subplots(1,1, sharex=False, figsize=fig_size)\n",
    "sns.boxplot(x='induce_type', y=col, data=df_, order=['un', 'd0', 'pre'],  ax=ax, width=0.5,\n",
    "            showmeans=True, meanline=True, meanprops={'linewidth':2, 'color':'0.85'})\n",
    "sns.swarmplot(x='induce_type', y=col, data=df_, order=['un', 'd0', 'pre'], ax=ax, color='k', size=4)\n",
    "ax.set_yticks([y+1 for y in range(3)])\n",
    "ax.set_ylabel(col_name)\n",
    "ax.set_xlabel('')\n",
    "ax.set_xticklabels(['Epithelial', 'Transitory', 'Mesenchymal'])\n",
    "fig.autofmt_xdate()\n",
    "sns.set_context(\"talk\")\n",
    "sns.despine();\n",
    "fig.savefig(\"plot_fig/shape_aniso.pdf\", bbox_inches='tight')"
   ]
  },
  {
   "cell_type": "code",
   "execution_count": null,
   "metadata": {},
   "outputs": [],
   "source": [
    "f, ax = plt.subplots(1,1, figsize=(6,6))\n",
    "\n",
    "c1 = '#3274a1'\n",
    "c2 = '#e1812c'\n",
    "c3 = '#3b913b'\n",
    "\n",
    "df_temp = df_[df_['induce_type']=='un']\n",
    "df_temp['pull_slices'] = df_temp['pull_slices'] + np.random.normal(0, 0.3, df_temp.shape[0])\n",
    "df_temp['push_slices'] = df_temp['push_slices'] + np.random.normal(0, 0.3, df_temp.shape[0])\n",
    "plt.scatter(df_temp['pull_slices'], df_temp['push_slices'], marker='v', label='Epithelial', color=c1)\n",
    "\n",
    "df_temp = df_[df_['induce_type']=='d0']\n",
    "df_temp['pull_slices'] = df_temp['pull_slices'] + np.random.normal(0, 0.3, df_temp.shape[0])\n",
    "df_temp['push_slices'] = df_temp['push_slices'] + np.random.normal(0, 0.3, df_temp.shape[0])\n",
    "plt.scatter(df_temp['pull_slices'], df_temp['push_slices'], marker='s', label='Transitory', color=c2)\n",
    "\n",
    "df_temp = df_[df_['induce_type']=='pre']\n",
    "df_temp['pull_slices'] = df_temp['pull_slices'] + np.random.normal(0, 0.3, df_temp.shape[0])\n",
    "df_temp['push_slices'] = df_temp['push_slices'] + np.random.normal(0, 0.3, df_temp.shape[0])\n",
    "plt.scatter(df_temp['pull_slices'], df_temp['push_slices'], marker='o', label='Mesenchymal', color=c3)\n",
    "# sns.scatterplot(x='pull_slices', y='axisAngleR_4', hue='induce_type', data=df_,\n",
    "#                 x_jitter=True, y_jitter=True, alpha = 1)\n",
    "# ax.set_title(drug_)\n",
    "ax.set_ylabel('Protrusive Slices')\n",
    "ax.set_xlabel('Contractile Slices')\n",
    "ax.set_ylim(ymax=17, ymin=-1)\n",
    "ax.set_xlim(xmax=17, xmin=-1)\n",
    "ax.set_xticks([x*4 for x in range(5)])\n",
    "ax.set_yticks([x*4 for x in range(5)])\n",
    "ax.legend()\n",
    "\n",
    "sns.set_context(\"talk\")\n",
    "sns.despine();\n",
    "f.savefig(\"plot_fig/scatter.pdf\", bbox_inches='tight')"
   ]
  },
  {
   "cell_type": "code",
   "execution_count": null,
   "metadata": {},
   "outputs": [],
   "source": [
    "f, ax = plt.subplots(1,1, figsize=(6, 6))\n",
    "\n",
    "c1 = '#3274a1'\n",
    "c2 = '#e1812c'\n",
    "c3 = '#3b913b'\n",
    "\n",
    "df_temp = df_[df_['induce_type']=='un']\n",
    "df_temp['shape_aniso'] = df_temp['shape_aniso'] + np.random.normal(0, 0.3, df_temp.shape[0])\n",
    "df_temp['volume'] = df_temp['volume'] + np.random.normal(0, 0.3, df_temp.shape[0])\n",
    "plt.scatter(df_temp['shape_aniso'], df_temp['volume'], marker='v', label='Epithelial', color=c1)\n",
    "\n",
    "df_temp = df_[df_['induce_type']=='d0']\n",
    "df_temp['shape_aniso'] = df_temp['shape_aniso'] + np.random.normal(0, 0.3, df_temp.shape[0])\n",
    "df_temp['volume'] = df_temp['volume'] + np.random.normal(0, 0.3, df_temp.shape[0])\n",
    "plt.scatter(df_temp['shape_aniso'], df_temp['volume'], marker='s', label='Transitory', color=c2)\n",
    "\n",
    "df_temp = df_[df_['induce_type']=='pre']\n",
    "df_temp['shape_aniso'] = df_temp['shape_aniso'] + np.random.normal(0, 0.3, df_temp.shape[0])\n",
    "df_temp['volume'] = df_temp['volume'] + np.random.normal(0, 0.3, df_temp.shape[0])\n",
    "plt.scatter(df_temp['shape_aniso'], df_temp['volume'], marker='o', label='Mesenchymal', color=c3)\n",
    "ax.set_ylabel('Volume')\n",
    "ax.set_xlabel('Shape anisotropy')\n",
    "ax.legend()\n",
    "\n",
    "sns.set_context(\"talk\")\n",
    "sns.despine();\n",
    "f.savefig(\"plot_fig/scatter_volume_shapeaniso.pdf\", bbox_inches='tight')"
   ]
  },
  {
   "cell_type": "markdown",
   "metadata": {},
   "source": [
    "### Output data to excel files for statistical test in Sigma plot"
   ]
  },
  {
   "cell_type": "code",
   "execution_count": null,
   "metadata": {},
   "outputs": [],
   "source": [
    "output_cols = ['pull_slices', 'push_slices', 'shear_slices', 'shape_aniso']\n",
    "\n",
    "df_temp = df_[df_['induce_type'] == 'un']\n",
    "df_temp = df_temp[output_cols]\n",
    "df_temp = df_temp.rename(dict(zip(output_cols, ['un_'+x for x in output_cols])), axis='columns')\n",
    "df_temp.to_excel(\"plot_fig/DART_epithelial.xls\")\n",
    "\n",
    "df_temp = df_[df_['induce_type'] == 'd0']\n",
    "df_temp = df_temp[output_cols]\n",
    "df_temp = df_temp.rename(dict(zip(output_cols, ['d0_'+x for x in output_cols])), axis='columns')\n",
    "df_temp.to_excel(\"plot_fig/DART_induced_emt.xls\")\n",
    "\n",
    "df_temp = df_[df_['induce_type'] == 'pre']\n",
    "df_temp = df_temp[output_cols]\n",
    "df_temp = df_temp.rename(dict(zip(output_cols, ['pre_'+x for x in output_cols])), axis='columns')\n",
    "df_temp.to_excel(\"plot_fig/DART_mesenchymal.xls\")"
   ]
  },
  {
   "cell_type": "markdown",
   "metadata": {},
   "source": [
    "## Output data to excel files to plot DARTs"
   ]
  },
  {
   "cell_type": "code",
   "execution_count": null,
   "metadata": {},
   "outputs": [],
   "source": [
    "df_ = df\n",
    "df_ = df_[df_['is_disp_checked']==1]\n",
    "\n",
    "\n",
    "pull_cols = ['pull__'+str(i+1) for i in range(16)]\n",
    "push_cols = ['push__'+str(i+1) for i in range(16)]\n",
    "shear_cols = ['push__'+str(i+1) for i in range(16)]\n",
    "\n",
    "def pull_push(m, n):\n",
    "    return (df_[m]>0) +2*(df_[n]>0)\n",
    "\n",
    "\n",
    "name_list = ['dart_'+str(i+1) for i in range(16)]\n",
    "for m, n, name in zip(pull_cols, push_cols, name_list):\n",
    "    df_[name] = pull_push(m, n)\n",
    "\n",
    "output_cols = ['well', 'cell', 'drug', 'induce_type'] + name_list + shear_cols\n",
    "df_[output_cols].to_excel(\"plot_dart04.xlsx\")"
   ]
  },
  {
   "cell_type": "markdown",
   "metadata": {},
   "source": [
    "# Classifier"
   ]
  },
  {
   "cell_type": "markdown",
   "metadata": {},
   "source": [
    "## Load packages"
   ]
  },
  {
   "cell_type": "code",
   "execution_count": null,
   "metadata": {},
   "outputs": [],
   "source": [
    "import numpy as np\n",
    "import matplotlib.pyplot as plt\n",
    "\n",
    "from sklearn import svm, datasets\n",
    "from sklearn.model_selection import train_test_split\n",
    "from sklearn.metrics import confusion_matrix\n",
    "from sklearn.utils.multiclass import unique_labels\n",
    "from sklearn import preprocessing\n",
    "from sklearn.tree import DecisionTreeClassifier\n",
    "from sklearn.metrics import accuracy_score"
   ]
  },
  {
   "cell_type": "markdown",
   "metadata": {},
   "source": [
    "## Function to plot confusion matrix"
   ]
  },
  {
   "cell_type": "code",
   "execution_count": null,
   "metadata": {},
   "outputs": [],
   "source": [
    "def plot_confusion_matrix(y_true, y_pred, classes,\n",
    "                          normalize=False,\n",
    "                          title=None,\n",
    "                          cmap=plt.cm.Blues):\n",
    "    \"\"\"\n",
    "    This function prints and plots the confusion matrix.\n",
    "    Normalization can be applied by setting `normalize=True`.\n",
    "    \"\"\"\n",
    "    if not title:\n",
    "        if normalize:\n",
    "            title = 'Normalized confusion matrix'\n",
    "        else:\n",
    "            title = 'Confusion matrix, without normalization'\n",
    "\n",
    "    # Compute confusion matrix\n",
    "    cm = confusion_matrix(y_true, y_pred)\n",
    "    # Only use the labels that appear in the data\n",
    "#     classes = classes[unique_labels(y_true, y_pred)]\n",
    "    if normalize:\n",
    "        cm = cm.astype('float') / cm.sum(axis=1)[:, np.newaxis]\n",
    "        print(\"Normalized confusion matrix\")\n",
    "    else:\n",
    "        print('Confusion matrix, without normalization')\n",
    "\n",
    "    print(cm)\n",
    "\n",
    "    fig, ax = plt.subplots(figsize=(4.1,3.5))\n",
    "    im = ax.imshow(cm, interpolation='nearest', cmap=cmap, vmin=0, vmax=1)\n",
    "    ax.figure.colorbar(im, ax=ax)\n",
    "    # We want to show all ticks...\n",
    "    ax.set(xticks=np.arange(cm.shape[1]),\n",
    "           yticks=np.arange(cm.shape[0]),\n",
    "           # ... and label them with the respective list entries\n",
    "           xticklabels=classes, yticklabels=classes,\n",
    "           title=title,\n",
    "           ylabel='True label',\n",
    "           xlabel='Predicted label')\n",
    "\n",
    "    # Rotate the tick labels and set their alignment.\n",
    "    plt.setp(ax.get_xticklabels(), rotation=45, ha=\"right\",\n",
    "             rotation_mode=\"anchor\")\n",
    "\n",
    "    # Loop over data dimensions and create text annotations.\n",
    "    fmt = '.2f' if normalize else 'd'\n",
    "    thresh = cm.max() / 2.\n",
    "    for i in range(cm.shape[0]):\n",
    "        for j in range(cm.shape[1]):\n",
    "            ax.text(j, i, format(cm[i, j], fmt),\n",
    "                    ha=\"center\", va=\"center\",\n",
    "                    color=\"white\" if cm[i, j] > thresh else \"black\")\n",
    "    fig.tight_layout()\n",
    "    sns.set_context(\"talk\")\n",
    "    sns.despine();\n",
    "    return ax, fig"
   ]
  },
  {
   "cell_type": "markdown",
   "metadata": {},
   "source": [
    "## Prepare training/test data"
   ]
  },
  {
   "cell_type": "code",
   "execution_count": null,
   "metadata": {},
   "outputs": [],
   "source": [
    "train_drug = 'dmso'\n",
    "test_drug = drug\n",
    "\n",
    "cols = ['pull_slices', 'push_slices', 'shear_slices', 'shape_aniso']\n",
    "\n",
    "X_train = df[df['drug']==train_drug][cols]\n",
    "Y_train = df[df['drug']==train_drug]['induce_type']\n",
    "\n",
    "#label encoder\n",
    "le = preprocessing.LabelEncoder()\n",
    "Y_train = le.fit_transform(Y_train)\n",
    "\n",
    "X_test = df[df['drug']==test_drug][cols]\n",
    "Y_test = df[df['drug']==test_drug]['induce_type']\n",
    "Y_test = le.transform(Y_test)\n",
    "\n",
    "le.classes_"
   ]
  },
  {
   "cell_type": "markdown",
   "metadata": {},
   "source": [
    "## Decision tree with all the features"
   ]
  },
  {
   "cell_type": "code",
   "execution_count": null,
   "metadata": {},
   "outputs": [],
   "source": [
    "clf = DecisionTreeClassifier(max_depth=5, min_samples_split=5, min_samples_leaf=5)\n",
    "clf.fit(X_train, Y_train)\n",
    "Y_pred = clf.predict(X_test)\n",
    "\n",
    "classes = ['E', 'T', 'M']\n",
    "d = {0:1, 1:2, 2:0}\n",
    "Y_test_ = np.array([d[x] for x in Y_test])\n",
    "Y_pred_ = np.array([d[x] for x in Y_pred])\n",
    "\n",
    "# ax, f = plot_confusion_matrix(Y_test, Y_pred, classes=le.classes_, normalize=True,\n",
    "#                       title='Decision tree, Confusion matrix')\n",
    "ax, f = plot_confusion_matrix(Y_test_, Y_pred_, classes=classes, normalize=True,\n",
    "                      title=' ')\n",
    "f.savefig(\"plot_fig/decision_tree.pdf\", bbox_inches='tight')"
   ]
  },
  {
   "cell_type": "code",
   "execution_count": null,
   "metadata": {},
   "outputs": [],
   "source": [
    "accuracy_score(Y_test_, Y_pred_)"
   ]
  },
  {
   "cell_type": "markdown",
   "metadata": {},
   "source": [
    "## Hand tuned classifer"
   ]
  },
  {
   "cell_type": "code",
   "execution_count": null,
   "metadata": {},
   "outputs": [],
   "source": [
    "def hand_classifier(df):\n",
    "    \n",
    "    def helper(row):\n",
    "        if (row['pull_slices']<13) and (row['push_slices']<=3):\n",
    "            return 1\n",
    "        elif (row['pull_slices']>=13) and (row['push_slices']<=6):\n",
    "            return 0\n",
    "        else:\n",
    "            return 2\n",
    "    \n",
    "    return df.apply(helper, axis=1)\n",
    "Y_pred = hand_classifier(X_test)\n",
    "\n",
    "classes = ['E', 'T', 'M']\n",
    "d = {0:1, 1:2, 2:0}\n",
    "Y_test_ = np.array([d[x] for x in Y_test])\n",
    "Y_pred_ = np.array([d[x] for x in Y_pred])\n",
    "\n",
    "# ax, f = plot_confusion_matrix(Y_test_, Y_pred_, classes=le.classes_, normalize=True,\n",
    "#                       title='Hand-tuned classifier, confusion matrix')\n",
    "ax, f = plot_confusion_matrix(Y_test_, Y_pred_, classes=classes, normalize=True,\n",
    "                      title=' ')\n",
    "f.savefig(\"plot_fig/hand.pdf\", bbox_inches='tight')"
   ]
  },
  {
   "cell_type": "code",
   "execution_count": null,
   "metadata": {},
   "outputs": [],
   "source": [
    "accuracy_score(Y_test_, Y_pred_)"
   ]
  }
 ],
 "metadata": {
  "kernelspec": {
   "display_name": "Python 3",
   "language": "python",
   "name": "python3"
  },
  "language_info": {
   "codemirror_mode": {
    "name": "ipython",
    "version": 3
   },
   "file_extension": ".py",
   "mimetype": "text/x-python",
   "name": "python",
   "nbconvert_exporter": "python",
   "pygments_lexer": "ipython3",
   "version": "3.7.4"
  }
 },
 "nbformat": 4,
 "nbformat_minor": 2
}
