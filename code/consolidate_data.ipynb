{
 "cells": [
  {
   "cell_type": "markdown",
   "metadata": {},
   "source": [
    "# Consolidate Date\n",
    "\n",
    "Combine data from multiple saved 'dart.csv' file into a single data file"
   ]
  },
  {
   "cell_type": "code",
   "execution_count": null,
   "metadata": {},
   "outputs": [],
   "source": [
    "import os\n",
    "import glob"
   ]
  },
  {
   "cell_type": "code",
   "execution_count": null,
   "metadata": {},
   "outputs": [],
   "source": [
    "valid_dirs = ['20190101', '20190102', '20190103'] # Parent folders containing data files to scan through\n",
    "\n",
    "# Find the locations of all the data files and save it in a list\n",
    "data_files = []\n",
    "for valid_dir in valid_dirs:\n",
    "    for root, dirs, files in os.walk(valid_dir):\n",
    "        for file in files:\n",
    "            if file.endswith(\"dart.csv\"):\n",
    "                print(os.path.join(root, file))\n",
    "                data_files.append(os.path.join(root, file)) \n",
    "\n",
    "# Load csv from each file into a single datafram\n",
    "df_from_each_file = (pd.read_csv(f) for f in data_files)\n",
    "df = pd.concat(df_from_each_file, ignore_index=True)\n",
    "\n",
    "# Save data to excel\n",
    "df.to_excel(\"final_data.xlsx\")"
   ]
  }
 ],
 "metadata": {
  "kernelspec": {
   "display_name": "Python 3",
   "language": "python",
   "name": "python3"
  },
  "language_info": {
   "codemirror_mode": {
    "name": "ipython",
    "version": 3
   },
   "file_extension": ".py",
   "mimetype": "text/x-python",
   "name": "python",
   "nbconvert_exporter": "python",
   "pygments_lexer": "ipython3",
   "version": "3.7.4"
  }
 },
 "nbformat": 4,
 "nbformat_minor": 2
}
