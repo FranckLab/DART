{
 "cells": [
  {
   "cell_type": "markdown",
   "metadata": {},
   "source": [
    "# Rename file prefix for SDS images"
   ]
  },
  {
   "cell_type": "code",
   "execution_count": null,
   "metadata": {},
   "outputs": [],
   "source": [
    "# Rename files ending with SDS to not SDS with time stamp t000.mat\n",
    "import glob, os\n",
    "cwd = os.getcwd()\n",
    "os.chdir(\"./20190101\")\n",
    "for file in glob.glob(\"20190101_SDS*_T004.mat\"):\n",
    "    print(file)\n",
    "    filename = file[:9]+file[13:-5]+'0.mat'\n",
    "    os.rename(file, filename)\n",
    "    print(filename)\n",
    "os.chdir(cwd)"
   ]
  },
  {
   "cell_type": "markdown",
   "metadata": {},
   "source": [
    "## Delete SDS files for the remaining time points"
   ]
  },
  {
   "cell_type": "code",
   "execution_count": null,
   "metadata": {},
   "outputs": [],
   "source": [
    "import glob, os\n",
    "cwd = os.getcwd()\n",
    "os.chdir(\"./20190101\")\n",
    "for file in glob.glob(\"*SDS*.mat\"):\n",
    "    print(file)\n",
    "    os.remove(file)\n",
    "os.chdir(cwd)"
   ]
  },
  {
   "cell_type": "markdown",
   "metadata": {},
   "source": [
    "# Rename cell and bead channel"
   ]
  },
  {
   "cell_type": "code",
   "execution_count": null,
   "metadata": {},
   "outputs": [],
   "source": [
    "import os, glob\n",
    "from pathlib import Path\n",
    "\n",
    "folder = \"./20190101\"\n",
    "channel_name = ['bead', 'cell']\n",
    "read_name=['C1', 'C2']\n",
    "channel_dict = dict(zip(channel_name, read_name))\n",
    "\n",
    "cwd = os.getcwd()\n",
    "os.chdir(folder)\n",
    "for channel, read in channel_dict.items():\n",
    "    \n",
    "    # Files with the give multi-point name\n",
    "    files = '*' + read + '*.mat'    \n",
    "    for file in glob.glob(files):\n",
    "        print(file)\n",
    "        filename = file[:13] + channel + file[15:]\n",
    "        os.rename(file, filename)\n",
    "        print(filename)\n",
    "os.chdir(cwd)"
   ]
  },
  {
   "cell_type": "markdown",
   "metadata": {},
   "source": [
    "# Move files into sub folders, and name them according to their multi-well position"
   ]
  },
  {
   "cell_type": "code",
   "execution_count": null,
   "metadata": {},
   "outputs": [],
   "source": [
    "import os, glob\n",
    "from pathlib import Path\n",
    "\n",
    "folder = \"./20190101\"\n",
    "mp_name = ['A01', 'A02', 'A03', 'B05', 'B04', 'B01', 'C01', 'C03', 'C06', 'D05', 'D04', 'D01']\n",
    "read_name=['M01', 'M02', 'M03', 'M04', 'M05', 'M06', 'M07', 'M08', 'M09', 'M10', 'M11', 'M12']\n",
    "mp_dict = dict(zip(mp_name, read_name))\n",
    "\n",
    "\n",
    "cwd = os.getcwd()\n",
    "os.chdir(folder)\n",
    "for mp, read in mp_dict.items():\n",
    "    \n",
    "    # Files with the give multi-point name\n",
    "    files = '*' + read + '*.mat'\n",
    "    # Create directory to save files in\n",
    "    sub_dir = './' + mp\n",
    "    os.mkdir(sub_dir)\n",
    "    \n",
    "    for file in glob.glob(files):\n",
    "        print(file)\n",
    "        filename = file[:9] + mp + file[12:]\n",
    "        new_file = Path(sub_dir, filename)\n",
    "        os.rename(file, new_file)\n",
    "        print(new_file)\n",
    "os.chdir(cwd)"
   ]
  }
 ],
 "metadata": {
  "kernelspec": {
   "display_name": "Python 3",
   "language": "python",
   "name": "python3"
  },
  "language_info": {
   "codemirror_mode": {
    "name": "ipython",
    "version": 3
   },
   "file_extension": ".py",
   "mimetype": "text/x-python",
   "name": "python",
   "nbconvert_exporter": "python",
   "pygments_lexer": "ipython3",
   "version": "3.7.4"
  }
 },
 "nbformat": 4,
 "nbformat_minor": 2
}
